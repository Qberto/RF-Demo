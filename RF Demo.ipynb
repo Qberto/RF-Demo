{
 "cells": [
  {
   "cell_type": "code",
   "execution_count": 35,
   "metadata": {
    "collapsed": true
   },
   "outputs": [],
   "source": [
    "from sklearn.ensemble import RandomForestClassifier\n",
    "import numpy as NUM\n",
    "import SSDataObject as SSDO\n",
    "import seaborn as SEA\n",
    "import matplotlib.pyplot as PLOT\n",
    "import pandas as PD\n",
    "import arcgisscripting as ARC\n",
    "import arcpy.management as DM\n",
    "import arcpy as ARCPY\n",
    "import SSUtilities as UTILS"
   ]
  },
  {
   "cell_type": "code",
   "execution_count": 36,
   "metadata": {
    "collapsed": true
   },
   "outputs": [],
   "source": [
    "#Allow overwriting Feature Classes\n",
    "ARCPY.env.overwriteOutput = True\n",
    "\n",
    "##IMPORT DATASET FROM ARCGIS PRO\n",
    "#Location of the input feature class\n",
    "inputFC = r'E:\\Projects\\ML\\Seagrass\\Seagrass.gdb\\FLpointsF_SpatialJoin3'\n",
    "\n",
    "#Create a SS Data Object\n",
    "ssdo = SSDO.SSDataObject(inputFC, useChordal = False)\n",
    "\n",
    "#Names of Preduction Variables\n",
    "predictVars = ['SALINITY', 'TEMP', 'PHOSPHATE','NITRATE', \n",
    "               'SILICATE', 'DISSO2', 'NAMEEMU']\n",
    "\n",
    "#Names of Classification Variable\n",
    "classVar = ['PRESENT']\n",
    "\n",
    "#List of all Variables\n",
    "allVars = predictVars + classVar\n",
    "#Obtain Data from Table\n",
    "ssdo.obtainData(fields = allVars)\n",
    "#Initialize array to hold all prediction variables\n",
    "inputVars = NUM.ndarray(shape = (ssdo.numObs, len(allVars)), dtype = object)\n"
   ]
  },
  {
   "cell_type": "code",
   "execution_count": 37,
   "metadata": {},
   "outputs": [
    {
     "data": {
      "text/html": [
       "<div>\n",
       "<style>\n",
       "    .dataframe thead tr:only-child th {\n",
       "        text-align: right;\n",
       "    }\n",
       "\n",
       "    .dataframe thead th {\n",
       "        text-align: left;\n",
       "    }\n",
       "\n",
       "    .dataframe tbody tr th {\n",
       "        vertical-align: top;\n",
       "    }\n",
       "</style>\n",
       "<table border=\"1\" class=\"dataframe\">\n",
       "  <thead>\n",
       "    <tr style=\"text-align: right;\">\n",
       "      <th></th>\n",
       "      <th>SALINITY</th>\n",
       "      <th>TEMP</th>\n",
       "      <th>PHOSPHATE</th>\n",
       "      <th>NITRATE</th>\n",
       "      <th>SILICATE</th>\n",
       "      <th>DISSO2</th>\n",
       "      <th>NAMEEMU</th>\n",
       "      <th>PRESENT</th>\n",
       "    </tr>\n",
       "  </thead>\n",
       "  <tbody>\n",
       "    <tr>\n",
       "      <th>0</th>\n",
       "      <td>35.695</td>\n",
       "      <td>24.7533</td>\n",
       "      <td>0.0705162</td>\n",
       "      <td>0.503541</td>\n",
       "      <td>3.87836</td>\n",
       "      <td>5.03819</td>\n",
       "      <td>Epipelagic, Warm to Very Warm, Euhaline, Oxic,...</td>\n",
       "      <td>0</td>\n",
       "    </tr>\n",
       "    <tr>\n",
       "      <th>1</th>\n",
       "      <td>35.985</td>\n",
       "      <td>24.1374</td>\n",
       "      <td>0.124987</td>\n",
       "      <td>0.836354</td>\n",
       "      <td>1.52161</td>\n",
       "      <td>4.71074</td>\n",
       "      <td>Epipelagic, Warm to Very Warm, Euhaline, Oxic,...</td>\n",
       "      <td>0</td>\n",
       "    </tr>\n",
       "    <tr>\n",
       "      <th>2</th>\n",
       "      <td>35.581</td>\n",
       "      <td>18.0056</td>\n",
       "      <td>1.03244</td>\n",
       "      <td>15.1723</td>\n",
       "      <td>10.7429</td>\n",
       "      <td>3.83999</td>\n",
       "      <td>Epipelagic, Warm to Very Warm, Euhaline, Oxic,...</td>\n",
       "      <td>1</td>\n",
       "    </tr>\n",
       "    <tr>\n",
       "      <th>3</th>\n",
       "      <td>35.4694</td>\n",
       "      <td>14.5541</td>\n",
       "      <td>0.936634</td>\n",
       "      <td>14.1092</td>\n",
       "      <td>9.92551</td>\n",
       "      <td>3.65459</td>\n",
       "      <td>Epipelagic, Warm to Very Warm, Euhaline, Oxic,...</td>\n",
       "      <td>1</td>\n",
       "    </tr>\n",
       "    <tr>\n",
       "      <th>4</th>\n",
       "      <td>35.4138</td>\n",
       "      <td>13.4895</td>\n",
       "      <td>0.980522</td>\n",
       "      <td>14.7467</td>\n",
       "      <td>10.7372</td>\n",
       "      <td>3.7217</td>\n",
       "      <td>Epipelagic, Warm to Very Warm, Euhaline, Oxic,...</td>\n",
       "      <td>0</td>\n",
       "    </tr>\n",
       "  </tbody>\n",
       "</table>\n",
       "</div>"
      ],
      "text/plain": [
       "  SALINITY     TEMP  PHOSPHATE   NITRATE SILICATE   DISSO2  \\\n",
       "0   35.695  24.7533  0.0705162  0.503541  3.87836  5.03819   \n",
       "1   35.985  24.1374   0.124987  0.836354  1.52161  4.71074   \n",
       "2   35.581  18.0056    1.03244   15.1723  10.7429  3.83999   \n",
       "3  35.4694  14.5541   0.936634   14.1092  9.92551  3.65459   \n",
       "4  35.4138  13.4895   0.980522   14.7467  10.7372   3.7217   \n",
       "\n",
       "                                             NAMEEMU PRESENT  \n",
       "0  Epipelagic, Warm to Very Warm, Euhaline, Oxic,...       0  \n",
       "1  Epipelagic, Warm to Very Warm, Euhaline, Oxic,...       0  \n",
       "2  Epipelagic, Warm to Very Warm, Euhaline, Oxic,...       1  \n",
       "3  Epipelagic, Warm to Very Warm, Euhaline, Oxic,...       1  \n",
       "4  Epipelagic, Warm to Very Warm, Euhaline, Oxic,...       0  "
      ]
     },
     "execution_count": 37,
     "metadata": {},
     "output_type": "execute_result"
    }
   ],
   "source": [
    "##PROCESS CATEGORICAL VARIABLES\n",
    "#Read all of the prediction variables except String variable\n",
    "for ind, var in enumerate(allVars):\n",
    "    inputVars[:, ind] = ssdo.fields[var].data\n",
    "#Place all of the Non-String Prediction Variables in a Pandas Dataframe\n",
    "data = PD.DataFrame(inputVars, columns = allVars)\n",
    "#Display Portion of the Data Frame\n",
    "data.head()"
   ]
  },
  {
   "cell_type": "code",
   "execution_count": 38,
   "metadata": {},
   "outputs": [
    {
     "data": {
      "text/html": [
       "<div>\n",
       "<style>\n",
       "    .dataframe thead tr:only-child th {\n",
       "        text-align: right;\n",
       "    }\n",
       "\n",
       "    .dataframe thead th {\n",
       "        text-align: left;\n",
       "    }\n",
       "\n",
       "    .dataframe tbody tr th {\n",
       "        vertical-align: top;\n",
       "    }\n",
       "</style>\n",
       "<table border=\"1\" class=\"dataframe\">\n",
       "  <thead>\n",
       "    <tr style=\"text-align: right;\">\n",
       "      <th></th>\n",
       "      <th>SALINITY</th>\n",
       "      <th>TEMP</th>\n",
       "      <th>PHOSPHATE</th>\n",
       "      <th>NITRATE</th>\n",
       "      <th>SILICATE</th>\n",
       "      <th>DISSO2</th>\n",
       "      <th>PRESENT</th>\n",
       "      <th>c1</th>\n",
       "      <th>c2</th>\n",
       "      <th>c3</th>\n",
       "    </tr>\n",
       "  </thead>\n",
       "  <tbody>\n",
       "    <tr>\n",
       "      <th>0</th>\n",
       "      <td>35.695</td>\n",
       "      <td>24.7533</td>\n",
       "      <td>0.0705162</td>\n",
       "      <td>0.503541</td>\n",
       "      <td>3.87836</td>\n",
       "      <td>5.03819</td>\n",
       "      <td>0</td>\n",
       "      <td>0</td>\n",
       "      <td>1</td>\n",
       "      <td>0</td>\n",
       "    </tr>\n",
       "    <tr>\n",
       "      <th>1</th>\n",
       "      <td>35.985</td>\n",
       "      <td>24.1374</td>\n",
       "      <td>0.124987</td>\n",
       "      <td>0.836354</td>\n",
       "      <td>1.52161</td>\n",
       "      <td>4.71074</td>\n",
       "      <td>0</td>\n",
       "      <td>0</td>\n",
       "      <td>1</td>\n",
       "      <td>0</td>\n",
       "    </tr>\n",
       "    <tr>\n",
       "      <th>2</th>\n",
       "      <td>35.581</td>\n",
       "      <td>18.0056</td>\n",
       "      <td>1.03244</td>\n",
       "      <td>15.1723</td>\n",
       "      <td>10.7429</td>\n",
       "      <td>3.83999</td>\n",
       "      <td>1</td>\n",
       "      <td>0</td>\n",
       "      <td>1</td>\n",
       "      <td>0</td>\n",
       "    </tr>\n",
       "    <tr>\n",
       "      <th>3</th>\n",
       "      <td>35.4694</td>\n",
       "      <td>14.5541</td>\n",
       "      <td>0.936634</td>\n",
       "      <td>14.1092</td>\n",
       "      <td>9.92551</td>\n",
       "      <td>3.65459</td>\n",
       "      <td>1</td>\n",
       "      <td>0</td>\n",
       "      <td>1</td>\n",
       "      <td>0</td>\n",
       "    </tr>\n",
       "    <tr>\n",
       "      <th>4</th>\n",
       "      <td>35.4138</td>\n",
       "      <td>13.4895</td>\n",
       "      <td>0.980522</td>\n",
       "      <td>14.7467</td>\n",
       "      <td>10.7372</td>\n",
       "      <td>3.7217</td>\n",
       "      <td>0</td>\n",
       "      <td>0</td>\n",
       "      <td>1</td>\n",
       "      <td>0</td>\n",
       "    </tr>\n",
       "  </tbody>\n",
       "</table>\n",
       "</div>"
      ],
      "text/plain": [
       "  SALINITY     TEMP  PHOSPHATE   NITRATE SILICATE   DISSO2 PRESENT  c1  c2  c3\n",
       "0   35.695  24.7533  0.0705162  0.503541  3.87836  5.03819       0   0   1   0\n",
       "1   35.985  24.1374   0.124987  0.836354  1.52161  4.71074       0   0   1   0\n",
       "2   35.581  18.0056    1.03244   15.1723  10.7429  3.83999       1   0   1   0\n",
       "3  35.4694  14.5541   0.936634   14.1092  9.92551  3.65459       1   0   1   0\n",
       "4  35.4138  13.4895   0.980522   14.7467  10.7372   3.7217       0   0   1   0"
      ]
     },
     "execution_count": 38,
     "metadata": {},
     "output_type": "execute_result"
    }
   ],
   "source": [
    "##Process Categorical Data for Analysis\n",
    "#Create Numeric Fields for One-Hot Encoding of the Categorical Variable\n",
    "catVars = PD.get_dummies(data[predictVars[-1]])\n",
    "#Remove Raw Categories from Dataset\n",
    "data = data.drop(predictVars[-1], axis = 1)\n",
    "#Add Processed Categories Back into the Data Frame\n",
    "data = data.join(catVars)\n",
    "#Abbreviate Long Categorical Variable Names as c1, c2, c3\n",
    "newNames = ['c1','c2','c3']\n",
    "for ind, name in enumerate(newNames):\n",
    "    data.rename(columns={data.columns[len(predictVars)+ind]:name}, inplace=True)\n",
    "#Update Predict Variable Names\n",
    "predictVarsNew = predictVars[:-1] + newNames\n",
    "#Display Portion of the Data Frame\n",
    "data.head()"
   ]
  },
  {
   "cell_type": "code",
   "execution_count": 39,
   "metadata": {},
   "outputs": [
    {
     "data": {
      "image/png": "[encoded data removed]",
      "text/plain": [
       "<matplotlib.figure.Figure at 0x1f2954ce198>"
      ]
     },
     "metadata": {},
     "output_type": "display_data"
    }
   ],
   "source": [
    "##EVALUATE CORRELATION BETWEEN PREDICTORS- EXCLUDE CATEGORICAL\n",
    "#Calculate Correlation Coefficient between Prediction Variables\n",
    "corr = data.drop(data.columns[-3:], axis = 1).astype('float64').corr()\n",
    "\n",
    "#Plot Correlation Matrix Between Prediction Variables\n",
    "ax = SEA.heatmap(corr, cmap=SEA.diverging_palette(220, 10, as_cmap=True),\n",
    "            square=True, annot = True, linecolor = 'k', linewidths = 1)\n",
    "\n",
    "PLOT.show()"
   ]
  },
  {
   "cell_type": "code",
   "execution_count": 40,
   "metadata": {},
   "outputs": [
    {
     "name": "stdout",
     "output_type": "stream",
     "text": [
      "Training Data Size = 100000\n",
      "Test Data Size = 900000\n"
     ]
    }
   ],
   "source": [
    "##PERFORM RANDOM FOREST CLASSIFICATION\n",
    "##PREPARE TRAINING AND TESTING DATA\n",
    "#Fraction of data to be used in Training\n",
    "fracNum = 0.1\n",
    "#Seperate the Data into Training and Test Datasets\n",
    "train_c1 = data[data['PRESENT'] == 1].sample(frac = fracNum)\n",
    "train_c0 = data[data['PRESENT'] == 0].sample(frac = fracNum)\n",
    "#Create Training Dataset\n",
    "train_set = PD.concat([train_c0, train_c1])\n",
    "#Create Testing Dataset\n",
    "test_set = data.drop(train_set.index)\n",
    "#Encode Seagrass Presence as Classes\n",
    "indicator, _ = PD.factorize(train_set['PRESENT'])\n",
    "print('Training Data Size = ' + str(train_set.size))\n",
    "print('Test Data Size = ' + str(test_set.size))"
   ]
  },
  {
   "cell_type": "code",
   "execution_count": 41,
   "metadata": {},
   "outputs": [
    {
     "name": "stdout",
     "output_type": "stream",
     "text": [
      "Accuracy = 99.7144444444 % \n",
      "Locations with Seagrass = 27787\n",
      "Predicted Locations with Seagrass = 27530\n"
     ]
    }
   ],
   "source": [
    "##Create Random Forest Classification Object\n",
    "rfco = RandomForestClassifier(n_estimators = 500)\n",
    "#Perform Classification Using Training Set\n",
    "rfco.fit(train_set[predictVarsNew], indicator)\n",
    "#Predict Seagrass Occurance for the Test Dataset\n",
    "seagrassPred = rfco.predict(test_set[predictVarsNew])\n",
    "#Calculate Prediction Accuracy\n",
    "test_seagrass = test_set.as_matrix(columns =[classVar])\n",
    "test_seagrass = test_seagrass.flatten()\n",
    "#Calculate Estimation Error\n",
    "error = NUM.sum(test_seagrass - seagrassPred)/len(seagrassPred) * 100\n",
    "#Print Accuracy Metrics\n",
    "print('Accuracy = ' + str(100 - NUM.abs(error)) + ' % ')\n",
    "print('Locations with Seagrass = ' + str(len(NUM.where(test_seagrass==1)[0])) )\n",
    "print('Predicted Locations with Seagrass = ' + str(len(NUM.where(seagrassPred==1)[0])))"
   ]
  },
  {
   "cell_type": "code",
   "execution_count": 42,
   "metadata": {},
   "outputs": [
    {
     "data": {
      "text/plain": [
       "True"
      ]
     },
     "execution_count": 42,
     "metadata": {},
     "output_type": "execute_result"
    }
   ],
   "source": [
    "##BRING OUTPUT BACK INTO ARCGIS\n",
    "#Create a New Feature Class with the Same Spatial Reference\n",
    "#Get Indeces for the Test Dataset\n",
    "nameFC = 'Result'\n",
    "outputFC = r'E:\\Projects\\ML\\Seagrass\\Seagrass.gdb\\FLpointsResults'\n",
    "#Get the Indics of Test Points\n",
    "test_index = NUM.setdiff1d(data.index, train_set.index)\n",
    "#Define an Indicator for Prediction Accuracy\n",
    "Indicator = seagrassPred==test_seagrass\n",
    "#Convert Indicator Variable to a Numeric Variable\n",
    "Indicator = Indicator * 1.0\n",
    "outField = SSDO.CandidateField(nameFC, type = \"DOUBLE\", data = Indicator)\n",
    "# Get The Number of points\n",
    "ssdo.numObs = test_index.shape[0]\n",
    "ssdo.xyCoords = ssdo.xyCoords[test_index]\n",
    "#Write Out the Result Into a Feature Class\n",
    "ARC._ss.output_featureclass_from_dataobject(ssdo, outputFC, [outField])"
   ]
  }
 ],
 "metadata": {
  "kernelspec": {
   "display_name": "Python 3",
   "language": "python",
   "name": "python3"
  },
  "language_info": {
   "codemirror_mode": {
    "name": "ipython",
    "version": 3
   },
   "file_extension": ".py",
   "mimetype": "text/x-python",
   "name": "python",
   "nbconvert_exporter": "python",
   "pygments_lexer": "ipython3",
   "version": "3.5.3"
  }
 },
 "nbformat": 4,
 "nbformat_minor": 2
}
