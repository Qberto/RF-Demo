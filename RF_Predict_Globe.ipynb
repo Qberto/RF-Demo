{
 "cells": [
  {
   "cell_type": "code",
   "execution_count": null,
   "metadata": {
    "collapsed": true
   },
   "outputs": [],
   "source": [
    "from sklearn.ensemble import RandomForestClassifier\n",
    "import numpy as NUM\n",
    "import arcpy as ARCPY\n",
    "import arcpy.da as DA\n",
    "import pandas as PD\n",
    "import seaborn as SEA\n",
    "import matplotlib.pyplot as PLOT\n",
    "import pandas as PD\n",
    "import arcgisscripting as ARC\n",
    "import arcpy as ARCPY\n",
    "import SSUtilities as UTILS\n",
    "import os as OS"
   ]
  },
  {
   "cell_type": "code",
   "execution_count": 11,
   "metadata": {},
   "outputs": [
    {
     "data": {
      "text/html": [
       "<div>\n",
       "<style>\n",
       "    .dataframe thead tr:only-child th {\n",
       "        text-align: right;\n",
       "    }\n",
       "\n",
       "    .dataframe thead th {\n",
       "        text-align: left;\n",
       "    }\n",
       "\n",
       "    .dataframe tbody tr th {\n",
       "        vertical-align: top;\n",
       "    }\n",
       "</style>\n",
       "<table border=\"1\" class=\"dataframe\">\n",
       "  <thead>\n",
       "    <tr style=\"text-align: right;\">\n",
       "      <th></th>\n",
       "      <th>salinity</th>\n",
       "      <th>temp</th>\n",
       "      <th>phosphate</th>\n",
       "      <th>nitrate</th>\n",
       "      <th>silicate</th>\n",
       "      <th>dissO2</th>\n",
       "      <th>Present</th>\n",
       "    </tr>\n",
       "  </thead>\n",
       "  <tbody>\n",
       "    <tr>\n",
       "      <th>0</th>\n",
       "      <td>33.757988</td>\n",
       "      <td>8.378799</td>\n",
       "      <td>2.04564</td>\n",
       "      <td>25.473619</td>\n",
       "      <td>35.493446</td>\n",
       "      <td>3.365844</td>\n",
       "      <td>0</td>\n",
       "    </tr>\n",
       "    <tr>\n",
       "      <th>1</th>\n",
       "      <td>33.757988</td>\n",
       "      <td>8.378799</td>\n",
       "      <td>2.04564</td>\n",
       "      <td>25.473619</td>\n",
       "      <td>35.493446</td>\n",
       "      <td>3.365844</td>\n",
       "      <td>0</td>\n",
       "    </tr>\n",
       "    <tr>\n",
       "      <th>2</th>\n",
       "      <td>33.757988</td>\n",
       "      <td>8.378799</td>\n",
       "      <td>2.04564</td>\n",
       "      <td>25.473619</td>\n",
       "      <td>35.493446</td>\n",
       "      <td>3.365844</td>\n",
       "      <td>0</td>\n",
       "    </tr>\n",
       "    <tr>\n",
       "      <th>3</th>\n",
       "      <td>33.757988</td>\n",
       "      <td>8.378799</td>\n",
       "      <td>2.04564</td>\n",
       "      <td>25.473619</td>\n",
       "      <td>35.493446</td>\n",
       "      <td>3.365844</td>\n",
       "      <td>0</td>\n",
       "    </tr>\n",
       "    <tr>\n",
       "      <th>4</th>\n",
       "      <td>33.757988</td>\n",
       "      <td>8.378799</td>\n",
       "      <td>2.04564</td>\n",
       "      <td>25.473619</td>\n",
       "      <td>35.493446</td>\n",
       "      <td>3.365844</td>\n",
       "      <td>0</td>\n",
       "    </tr>\n",
       "  </tbody>\n",
       "</table>\n",
       "</div>"
      ],
      "text/plain": [
       "    salinity      temp  phosphate    nitrate   silicate    dissO2  Present\n",
       "0  33.757988  8.378799    2.04564  25.473619  35.493446  3.365844        0\n",
       "1  33.757988  8.378799    2.04564  25.473619  35.493446  3.365844        0\n",
       "2  33.757988  8.378799    2.04564  25.473619  35.493446  3.365844        0\n",
       "3  33.757988  8.378799    2.04564  25.473619  35.493446  3.365844        0\n",
       "4  33.757988  8.378799    2.04564  25.473619  35.493446  3.365844        0"
      ]
     },
     "execution_count": 11,
     "metadata": {},
     "output_type": "execute_result"
    }
   ],
   "source": [
    "#Names of Prediction Variables#Import USA Seagrass Data \n",
    "USAurl = r'https://services3.arcgis.com/oZfKvdlWHN1MwS48/arcgis/rest/services/MachineLearningSeagrass/FeatureServer/0?token=W4CSlYAQxBZKNONRrS_MVm0qNa7j21xD5BNMByQOuXTQ6xhXxFydToukAXYrndK0RRrMNjvbFHcbCOioIVNAgIe6f0iV7rclZ4kNGqoI3i1Ldjhv_UgwzeBGc7KJacuAshcwYXkb6PIgrGipbwD3YOV3AGhhRmh9e5RzMSWB7HJS9fSYzU2l8ZL9vkLmWccKvo_DGJaqm9GIkz9HoPM2hv2yGDdf9SEtcoQvBsNkCWk.'\n",
    "predictVars = ['salinity', 'temp', 'phosphate','nitrate', \n",
    "               'silicate', 'dissO2']\n",
    "#Name of Classification Variable\n",
    "classVar = ['Present']\n",
    "#List of all Variables\n",
    "allVars = predictVars + classVar\n",
    "#Create a Data Object\n",
    "USAlayer = DA.FeatureClassToNumPyArray(USAurl, [\"SHAPE@XY\"] + allVars)\n",
    "#Obtain Spatial Reference\n",
    "spatRefGlobal = ARCPY.Describe(globalUrl).spatialReference\n",
    "#Define Main Dataframe\n",
    "USA_Train = PD.DataFrame(USAlayer, columns = allVars)\n",
    "#Display Portion of the Data Frame\n",
    "USA_Train.head()"
   ]
  },
  {
   "cell_type": "code",
   "execution_count": 12,
   "metadata": {},
   "outputs": [
    {
     "data": {
      "text/plain": [
       "RandomForestClassifier(bootstrap=True, class_weight=None, criterion='gini',\n",
       "            max_depth=None, max_features='auto', max_leaf_nodes=None,\n",
       "            min_impurity_split=1e-07, min_samples_leaf=1,\n",
       "            min_samples_split=2, min_weight_fraction_leaf=0.0,\n",
       "            n_estimators=500, n_jobs=1, oob_score=False, random_state=None,\n",
       "            verbose=0, warm_start=False)"
      ]
     },
     "execution_count": 12,
     "metadata": {},
     "output_type": "execute_result"
    }
   ],
   "source": [
    "##Train Random Forest Using USA Data\n",
    "#Encode Seagrass Presence as Classes\n",
    "indicatorUSA, _ = PD.factorize(USA_Train['Present'])\n",
    "#Create Random Forest Classification Object\n",
    "rfco = RandomForestClassifier(n_estimators = 500)\n",
    "#Perform Classification Using Training Set\n",
    "rfco.fit(USA_Train[predictVars[:-1]], indicatorUSA)"
   ]
  },
  {
   "cell_type": "code",
   "execution_count": 13,
   "metadata": {
    "collapsed": true
   },
   "outputs": [],
   "source": [
    "## Import Global Data for Prediction ##\n",
    "globalUrl = r'https://services3.arcgis.com/oZfKvdlWHN1MwS48/arcgis/rest/services/MachineLearningSeagrass/FeatureServer/2?token=W4CSlYAQxBZKNONRrS_MVm0qNa7j21xD5BNMByQOuXTQ6xhXxFydToukAXYrndK0RRrMNjvbFHcbCOioIVNAgIe6f0iV7rclZ4kNGqoI3i1Ldjhv_UgwzeBGc7KJacuAshcwYXkb6PIgrGipbwD3YOV3AGhhRmh9e5RzMSWB7HJS9fSYzU2l8ZL9vkLmWccKvo_DGJaqm9GIkz9HoPM2hv2yGDdf9SEtcoQvBsNkCWk.'\n",
    "#Create a SS Data Object\n",
    "globalData = DA.FeatureClassToNumPyArray(globalUrl, [\"SHAPE@XY\"] + predictVars[:-1])\n",
    "#Obtain Spatial Reference\n",
    "spatRefGlobal = ARCPY.Describe(globalUrl).spatialReference\n",
    "#Define Dataframe\n",
    "globalTrain = PD.DataFrame(globalData, columns = predictVars[:-1])"
   ]
  },
  {
   "cell_type": "code",
   "execution_count": null,
   "metadata": {},
   "outputs": [],
   "source": [
    "#Predict Global Seagrass Occurance\n",
    "seagrassPredGlobal = rfco.predict(globalTrain)\n",
    "#Bring Output Back to ArcGIS\n",
    "nameFC = 'GlobSeagrass'\n",
    "outputDir = r'C:\\Users\\orhu8849\\Documents\\ArcGIS\\Projects\\UC_2017_ML_Seminar\\UC_2017_ML_Seminar.gdb'\n",
    "grassExists = globalData[[\"SHAPE@XY\"]][globalTrain.index[NUM.where(seagrassPredGlobal==1)]]\n",
    "# Write Locations with Seagrass to Feature Class\n",
    "ARCPY.da.NumPyArrayToFeatureClass(grassExists, OS.path.join(outputDir, nameFC), ['SHAPE@XY'], spatRefGlobal)\n",
    "#Calculate Point Kernel Density for Predicted Seagrass Locations\n",
    "ARCPY.sa.KernelDensity(OS.path.join(outputDir, nameFC), \"NONE\", 104414.5785052, None, \"SQUARE_KILOMETERS\", \"DENSITIES\", \"PLANAR\"); out_raster.save(OS.path.join(outputDir,'globSeagrassDens'))"
   ]
  }
 ],
 "metadata": {
  "kernelspec": {
   "display_name": "Python 3",
   "language": "python",
   "name": "python3"
  },
  "language_info": {
   "codemirror_mode": {
    "name": "ipython",
    "version": 3
   },
   "file_extension": ".py",
   "mimetype": "text/x-python",
   "name": "python",
   "nbconvert_exporter": "python",
   "pygments_lexer": "ipython3",
   "version": "3.5.3"
  }
 },
 "nbformat": 4,
 "nbformat_minor": 2
}
