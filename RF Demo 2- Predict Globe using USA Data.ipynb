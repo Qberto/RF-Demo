{
 "cells": [
  {
   "cell_type": "code",
   "execution_count": 1,
   "metadata": {
    "collapsed": true
   },
   "outputs": [],
   "source": [
    "from sklearn.ensemble import RandomForestClassifier\n",
    "import numpy as NUM\n",
    "import SSDataObject as SSDO\n",
    "import seaborn as SEA\n",
    "import matplotlib.pyplot as PLOT\n",
    "import pandas as PD\n",
    "import arcgisscripting as ARC\n",
    "import arcpy.management as DM\n",
    "import arcpy as ARCPY\n",
    "import SSUtilities as UTILS"
   ]
  },
  {
   "cell_type": "code",
   "execution_count": 2,
   "metadata": {
    "collapsed": true
   },
   "outputs": [],
   "source": [
    "##USE USA DATA TO PREDICT GLOBE\n",
    "#Prediction Variables\n",
    "predictVars = ['SALINITY', 'TEMP', 'PHOSPHATE','NITRATE', \n",
    "               'SILICATE', 'DISSO2']\n",
    "#Names of Classification Variable\n",
    "classVar = ['PRESENT']\n",
    "#Import USA Seagrass Data \n",
    "inputFC = r'E:\\Projects\\ML\\Seagrass\\Seagrass.gdb\\USAPointData_SpatialJoin'\n",
    "#Create a SS Data Object\n",
    "ssdo = SSDO.SSDataObject(inputFC, useChordal = False)\n",
    "#List of all Variables\n",
    "allVars = predictVars + classVar\n",
    "#Obtain Data from Table\n",
    "ssdo.obtainData(fields = allVars)\n",
    "#Initialize array to hold all prediction variables\n",
    "inputVars = NUM.ndarray(shape = (ssdo.numObs, len(allVars)), dtype = object)\n",
    "#Read all of the prediction variables except String variable\n",
    "for ind, var in enumerate(allVars):\n",
    "    inputVars[:, ind] = ssdo.fields[var].data\n",
    "#Place all of the Non-String Prediction Variables in a Pandas Dataframe\n",
    "USA_Train = PD.DataFrame(inputVars, columns = allVars)"
   ]
  },
  {
   "cell_type": "code",
   "execution_count": 3,
   "metadata": {
    "collapsed": true
   },
   "outputs": [],
   "source": [
    "#Import Global Data for Prediction\n",
    "inputFC = r'E:\\Projects\\ML\\Seagrass\\Seagrass.gdb\\GlobalPredict'\n",
    "#Create a SS Data Object\n",
    "ssdoGl = SSDO.SSDataObject(inputFC, useChordal = False)\n",
    "#Obtain Data from Table\n",
    "ssdoGl.obtainData(fields = predictVars)\n",
    "#Initialize array to hold all prediction variables\n",
    "globalPredict = NUM.ndarray(shape = (ssdoGl.numObs, len(predictVars)))\n",
    "#Read in all of the prediction variables\n",
    "for ind, var in enumerate(predictVars):\n",
    "    globalPredict[:, ind] = ssdoGl.fields[var].data"
   ]
  },
  {
   "cell_type": "code",
   "execution_count": 4,
   "metadata": {
    "collapsed": true
   },
   "outputs": [],
   "source": [
    "##Train Random Forest Using USA Data\n",
    "#Encode Seagrass Presence as Classes\n",
    "indicatorUSA, _ = PD.factorize(USA_Train['PRESENT'])\n",
    "#Create Random Forest Classification Object\n",
    "rfco = RandomForestClassifier(n_estimators = 500)\n",
    "#Perform Classification Using Training Set\n",
    "rfco.fit(USA_Train[predictVars], indicatorUSA)\n",
    "#Predict Global Seagrass Occurance\n",
    "seagrassPredGlobal = rfco.predict(globalPredict)"
   ]
  },
  {
   "cell_type": "code",
   "execution_count": 5,
   "metadata": {
    "collapsed": true
   },
   "outputs": [],
   "source": [
    "##BRING OUTPUT BACK INTO ARCGIS\n",
    "#Locations Where Seagrass Occurance is Predicted\n",
    "index = NUM.where(NUM.asarray(seagrassPredGlobal)==1)\n",
    "#Create a New Feature Class with the Same Spatial Reference\n",
    "#Get Indeces for the Test Dataset\n",
    "nameFC = 'Seagrass_Pred'\n",
    "outputFC = r'E:\\Projects\\ML\\Seagrass\\Seagrass.gdb\\GlobalPredResults'\n",
    "outField = SSDO.CandidateField(nameFC, type = \"DOUBLE\", data = seagrassPredGlobal[index])\n",
    "#Update SS Data Object\n",
    "ssdoGl.xyCoords = ssdoGl.xyCoords[index]\n",
    "ssdoGl.numObs = index[0].shape[0]\n",
    "\n",
    "ARC._ss.output_featureclass_from_dataobject(ssdoGl, outputFC, [outField])"
   ]
  }
 ],
 "metadata": {
  "kernelspec": {
   "display_name": "Python 3",
   "language": "python",
   "name": "python3"
  },
  "language_info": {
   "codemirror_mode": {
    "name": "ipython",
    "version": 3
   },
   "file_extension": ".py",
   "mimetype": "text/x-python",
   "name": "python",
   "nbconvert_exporter": "python",
   "pygments_lexer": "ipython3",
   "version": "3.5.3"
  }
 },
 "nbformat": 4,
 "nbformat_minor": 2
}
